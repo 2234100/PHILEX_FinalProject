{
  "cells": [
    {
      "cell_type": "code",
      "execution_count": null,
      "metadata": {
        "id": "q42vLdJZ5MvM"
      },
      "outputs": [],
      "source": [
        "import pandas as pd\n",
        "import re\n",
        "import nltk\n",
        "from nltk.corpus import stopwords\n",
        "from nltk.tokenize import word_tokenize\n",
        "import spacy\n",
        "from langdetect import detect, LangDetectException\n",
        "\n",
        "nltk.download('punkt_tab')\n",
        "nltk.download('stopwords')\n",
        "\n",
        "nlp = spacy.load('en_core_web_sm')\n",
        "\n",
        "df = pd.read_csv(\"/content/combined_rpg_reviews_20250623_171534.csv\")"
      ]
    },
    {
      "cell_type": "code",
      "source": [
        "games_list = [\n",
        "    \"Baldur's Gate\", \"Black Desert Online\", \"Cyberpunk 2077\", \"Cyberpunk\",\n",
        "    \"Dark Souls\", \"DS\", \"Divinity\", \"Dwarf Fortress\", \"ELDEN RING\", \"Fallout\",\n",
        "    \"God of War\", \"Hades\", \"Hollow Knight\", \"Icewind Dale\", \"Kenshi\",\n",
        "    \"Mass Effect\", \"Monster Hunter\", \"Mount & Blade\", \"Neverwinter Nights\",\n",
        "    \"NieR: Automata\", \"Ori and the Blind Forest\", \"Ori\", \"Pathfinder\",\n",
        "    \"Persona\", \"Pillars of Eternity\", \"Planescape\", \"Red Dead Redemption 2\",\n",
        "    \"rdr2\", \"RimWorld\", \"Sekiro\", \"Slay the Spire\", \"Stardew Valley\",\n",
        "    \"Tales of Arise\", \"Tales of Berseria\", \"Tales of Vesperia\",\n",
        "    \"Tales of Zestiria\", \"The Binding of Isaac\", \"Elder Scrolls\",\n",
        "    \"The Witcher\", \"Undertale\"\n",
        "]\n",
        "\n",
        "game_pattern = r'\\b(' + '|'.join([re.escape(game) for game in sorted(games_list, key=len, reverse=True)]) + r')\\b'"
      ],
      "metadata": {
        "id": "Q6WFPhN7gFue"
      },
      "execution_count": null,
      "outputs": []
    },
    {
      "cell_type": "code",
      "source": [
        "def mentions_game(text):\n",
        "    if not isinstance(text, str):\n",
        "        return False\n",
        "    return bool(re.search(game_pattern, text, re.IGNORECASE))\n",
        "\n",
        "def remove_game_mentions(text):\n",
        "    if not isinstance(text, str):\n",
        "        return text\n",
        "    return re.sub(game_pattern, '', text, flags=re.IGNORECASE)\n",
        "\n",
        "df['mentions_game'] = df['review'].apply(mentions_game)\n",
        "df['review_clean'] = df['review'].apply(remove_game_mentions)\n",
        "\n",
        "df_filtered = df[df['mentions_game']].copy()\n",
        "print(f\"Total reviews: {len(df)}\")\n",
        "print(f\"Reviews mentioning specified games: {len(df_filtered)}\")"
      ],
      "metadata": {
        "id": "s1Dx6gMHgOmN"
      },
      "execution_count": null,
      "outputs": []
    },
    {
      "cell_type": "code",
      "source": [
        "def is_english(text):\n",
        "    if not isinstance(text, str) or text.strip() == \"\":\n",
        "        return False\n",
        "    try:\n",
        "        return detect(text) == 'en'\n",
        "    except LangDetectException:\n",
        "        return False"
      ],
      "metadata": {
        "id": "ao_OjRoAQ6ve"
      },
      "execution_count": null,
      "outputs": []
    },
    {
      "cell_type": "code",
      "execution_count": null,
      "metadata": {
        "id": "tgrwPkBy7WTS"
      },
      "outputs": [],
      "source": [
        "def clean_text(text):\n",
        "    if not isinstance(text, str):  # Handle non-string inputs (e.g., NaN)\n",
        "        return \"\"\n",
        "    text = re.sub(r'http\\S+', '', text)  # Remove URLs\n",
        "    text = re.sub(r'[^a-zA-Z\\s]', '', text)  # Remove non-alphabetic characters\n",
        "    text = re.sub(r'\\S+@\\S+', '', text)  # Remove emails\n",
        "    return text.strip().lower()"
      ]
    },
    {
      "cell_type": "code",
      "execution_count": null,
      "metadata": {
        "id": "v53LXg2r9kcJ"
      },
      "outputs": [],
      "source": [
        "stop_words = set(stopwords.words('english'))\n",
        "def preprocess(text):\n",
        "    tokens = word_tokenize(text)\n",
        "    tokens = [word for word in tokens if word not in stop_words and len(word) > 2]\n",
        "    return tokens"
      ]
    },
    {
      "cell_type": "code",
      "source": [
        "def lemmatize(tokens):\n",
        "    if not tokens:\n",
        "        return []\n",
        "    doc = nlp(' '.join(tokens))\n",
        "    return [token.lemma_ for token in doc if token.pos_ in ['NOUN', 'ADJ', 'VERB']]"
      ],
      "metadata": {
        "id": "-0qz8XarPoOl"
      },
      "execution_count": null,
      "outputs": []
    },
    {
      "cell_type": "code",
      "source": [
        "df_filtered['is_english'] = df_filtered['review_clean'].apply(is_english)\n",
        "df_english = df_filtered[df_filtered['is_english']].copy()\n",
        "df_english['cleaned_review'] = df_english['review_clean'].apply(clean_text)\n",
        "df_english['tokens'] = df_english['cleaned_review'].apply(preprocess)\n",
        "df_english['lemmatized'] = df_english['tokens'].apply(lemmatize)"
      ],
      "metadata": {
        "id": "ZVG4yLEtRQs_"
      },
      "execution_count": null,
      "outputs": []
    },
    {
      "cell_type": "code",
      "source": [
        "output_path = \"/content/processed_reviews_mentioned_game.csv\"\n",
        "df_english.to_csv(output_path, index=False)\n",
        "\n",
        "print(f\"Total reviews: {len(df)}\")\n",
        "print(f\"English reviews: {len(df_english)}\")\n",
        "print(df_english[['review', 'cleaned_review', 'tokens', 'lemmatized']].head())"
      ],
      "metadata": {
        "id": "yXideW65UNDv"
      },
      "execution_count": null,
      "outputs": []
    }
  ],
  "metadata": {
    "colab": {
      "provenance": []
    },
    "kernelspec": {
      "display_name": "Python 3",
      "name": "python3"
    },
    "language_info": {
      "name": "python"
    }
  },
  "nbformat": 4,
  "nbformat_minor": 0
}